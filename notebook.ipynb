{
  "nbformat": 4,
  "nbformat_minor": 0,
  "metadata": {
    "colab": {
      "provenance": []
    },
    "kernelspec": {
      "name": "python3",
      "display_name": "Python 3"
    },
    "language_info": {
      "name": "python"
    }
  },
  "cells": [
    {
      "cell_type": "code",
      "execution_count": 2,
      "metadata": {
        "id": "9qdG-9uDWO1C",
        "colab": {
          "base_uri": "https://localhost:8080/"
        },
        "outputId": "6f97ab54-580d-4452-9335-a836cc87bc1b"
      },
      "outputs": [
        {
          "output_type": "stream",
          "name": "stderr",
          "text": [
            "/usr/local/lib/python3.10/dist-packages/ipykernel/ipkernel.py:283: DeprecationWarning: `should_run_async` will not call `transform_cell` automatically in the future. Please pass the result to `transformed_cell` argument and any exception that happen during thetransform in `preprocessing_exc_tuple` in IPython 7.17 and above.\n",
            "  and should_run_async(code)\n"
          ]
        }
      ],
      "source": [
        "# Import Library\n",
        "import pandas as pd\n",
        "import numpy as np\n",
        "import seaborn as sns\n",
        "import matplotlib.pyplot as plt\n",
        "import matplotlib.style\n",
        "%matplotlib inline\n",
        "from mlxtend.frequent_patterns import association_rules\n",
        "from collections import Counter\n",
        "from IPython.display import Image"
      ]
    },
    {
      "cell_type": "code",
      "source": [
        "pip install requests"
      ],
      "metadata": {
        "colab": {
          "base_uri": "https://localhost:8080/"
        },
        "id": "PI3s_bVU_cEc",
        "outputId": "9e06913c-16d0-4b1b-e4a7-2296e9f909fe"
      },
      "execution_count": 3,
      "outputs": [
        {
          "output_type": "stream",
          "name": "stderr",
          "text": [
            "/usr/local/lib/python3.10/dist-packages/ipykernel/ipkernel.py:283: DeprecationWarning: `should_run_async` will not call `transform_cell` automatically in the future. Please pass the result to `transformed_cell` argument and any exception that happen during thetransform in `preprocessing_exc_tuple` in IPython 7.17 and above.\n",
            "  and should_run_async(code)\n"
          ]
        },
        {
          "output_type": "stream",
          "name": "stdout",
          "text": [
            "Requirement already satisfied: requests in /usr/local/lib/python3.10/dist-packages (2.31.0)\n",
            "Requirement already satisfied: charset-normalizer<4,>=2 in /usr/local/lib/python3.10/dist-packages (from requests) (3.3.2)\n",
            "Requirement already satisfied: idna<4,>=2.5 in /usr/local/lib/python3.10/dist-packages (from requests) (3.7)\n",
            "Requirement already satisfied: urllib3<3,>=1.21.1 in /usr/local/lib/python3.10/dist-packages (from requests) (2.0.7)\n",
            "Requirement already satisfied: certifi>=2017.4.17 in /usr/local/lib/python3.10/dist-packages (from requests) (2024.2.2)\n"
          ]
        }
      ]
    },
    {
      "cell_type": "code",
      "source": [
        "import requests\n",
        "from io import StringIO\n",
        "# Google Drive file ID from the link\n",
        "file_id = '1apopGzFq1OD4RwUUFxGSSgCOXjno_TsM'\n",
        "\n",
        "# Google Drive download link\n",
        "url = f\"https://drive.google.com/uc?id={file_id}\"\n",
        "\n",
        "# Make a GET request to the URL\n",
        "response = requests.get(url)\n",
        "\n",
        "# Read the content of the response into a pandas DataFrame\n",
        "grocery_data = StringIO(response.text)\n",
        "df = pd.read_csv(grocery_data)\n",
        "\n",
        "# Read file\n",
        "print(df)"
      ],
      "metadata": {
        "colab": {
          "base_uri": "https://localhost:8080/"
        },
        "id": "PGfMM3NaWkl3",
        "outputId": "bfaa4ed7-1ef5-440e-f231-2263770029e2"
      },
      "execution_count": 4,
      "outputs": [
        {
          "output_type": "stream",
          "name": "stderr",
          "text": [
            "/usr/local/lib/python3.10/dist-packages/ipykernel/ipkernel.py:283: DeprecationWarning: `should_run_async` will not call `transform_cell` automatically in the future. Please pass the result to `transformed_cell` argument and any exception that happen during thetransform in `preprocessing_exc_tuple` in IPython 7.17 and above.\n",
            "  and should_run_async(code)\n"
          ]
        },
        {
          "output_type": "stream",
          "name": "stdout",
          "text": [
            "       Member_number        Date        itemDescription\n",
            "0               1808  21-07-2015         tropical fruit\n",
            "1               2552  05-01-2015             whole milk\n",
            "2               2300  19-09-2015              pip fruit\n",
            "3               1187  12-12-2015       other vegetables\n",
            "4               3037  01-02-2015             whole milk\n",
            "...              ...         ...                    ...\n",
            "38760           4471  08-10-2014          sliced cheese\n",
            "38761           2022  23-02-2014                  candy\n",
            "38762           1097  16-04-2014               cake bar\n",
            "38763           1510  03-12-2014  fruit/vegetable juice\n",
            "38764           1521  26-12-2014               cat food\n",
            "\n",
            "[38765 rows x 3 columns]\n"
          ]
        }
      ]
    },
    {
      "cell_type": "code",
      "source": [
        "# Check data\n",
        "df.shape"
      ],
      "metadata": {
        "colab": {
          "base_uri": "https://localhost:8080/"
        },
        "id": "sSIJGVClWsXD",
        "outputId": "bdacbc23-5847-4f89-8aff-38e6be9f887f"
      },
      "execution_count": 5,
      "outputs": [
        {
          "output_type": "stream",
          "name": "stderr",
          "text": [
            "/usr/local/lib/python3.10/dist-packages/ipykernel/ipkernel.py:283: DeprecationWarning: `should_run_async` will not call `transform_cell` automatically in the future. Please pass the result to `transformed_cell` argument and any exception that happen during thetransform in `preprocessing_exc_tuple` in IPython 7.17 and above.\n",
            "  and should_run_async(code)\n"
          ]
        },
        {
          "output_type": "execute_result",
          "data": {
            "text/plain": [
              "(38765, 3)"
            ]
          },
          "metadata": {},
          "execution_count": 5
        }
      ]
    },
    {
      "cell_type": "code",
      "source": [
        "# Get the first 5 row\n",
        "df.head(5)"
      ],
      "metadata": {
        "colab": {
          "base_uri": "https://localhost:8080/",
          "height": 262
        },
        "id": "PJb7DCEMZTPp",
        "outputId": "c62b72bd-9250-4b5c-84b9-59d3b8786490"
      },
      "execution_count": 6,
      "outputs": [
        {
          "output_type": "stream",
          "name": "stderr",
          "text": [
            "/usr/local/lib/python3.10/dist-packages/ipykernel/ipkernel.py:283: DeprecationWarning: `should_run_async` will not call `transform_cell` automatically in the future. Please pass the result to `transformed_cell` argument and any exception that happen during thetransform in `preprocessing_exc_tuple` in IPython 7.17 and above.\n",
            "  and should_run_async(code)\n"
          ]
        },
        {
          "output_type": "execute_result",
          "data": {
            "text/plain": [
              "   Member_number        Date   itemDescription\n",
              "0           1808  21-07-2015    tropical fruit\n",
              "1           2552  05-01-2015        whole milk\n",
              "2           2300  19-09-2015         pip fruit\n",
              "3           1187  12-12-2015  other vegetables\n",
              "4           3037  01-02-2015        whole milk"
            ],
            "text/html": [
              "\n",
              "  <div id=\"df-57344950-2aba-4068-9a51-0322cc125599\" class=\"colab-df-container\">\n",
              "    <div>\n",
              "<style scoped>\n",
              "    .dataframe tbody tr th:only-of-type {\n",
              "        vertical-align: middle;\n",
              "    }\n",
              "\n",
              "    .dataframe tbody tr th {\n",
              "        vertical-align: top;\n",
              "    }\n",
              "\n",
              "    .dataframe thead th {\n",
              "        text-align: right;\n",
              "    }\n",
              "</style>\n",
              "<table border=\"1\" class=\"dataframe\">\n",
              "  <thead>\n",
              "    <tr style=\"text-align: right;\">\n",
              "      <th></th>\n",
              "      <th>Member_number</th>\n",
              "      <th>Date</th>\n",
              "      <th>itemDescription</th>\n",
              "    </tr>\n",
              "  </thead>\n",
              "  <tbody>\n",
              "    <tr>\n",
              "      <th>0</th>\n",
              "      <td>1808</td>\n",
              "      <td>21-07-2015</td>\n",
              "      <td>tropical fruit</td>\n",
              "    </tr>\n",
              "    <tr>\n",
              "      <th>1</th>\n",
              "      <td>2552</td>\n",
              "      <td>05-01-2015</td>\n",
              "      <td>whole milk</td>\n",
              "    </tr>\n",
              "    <tr>\n",
              "      <th>2</th>\n",
              "      <td>2300</td>\n",
              "      <td>19-09-2015</td>\n",
              "      <td>pip fruit</td>\n",
              "    </tr>\n",
              "    <tr>\n",
              "      <th>3</th>\n",
              "      <td>1187</td>\n",
              "      <td>12-12-2015</td>\n",
              "      <td>other vegetables</td>\n",
              "    </tr>\n",
              "    <tr>\n",
              "      <th>4</th>\n",
              "      <td>3037</td>\n",
              "      <td>01-02-2015</td>\n",
              "      <td>whole milk</td>\n",
              "    </tr>\n",
              "  </tbody>\n",
              "</table>\n",
              "</div>\n",
              "    <div class=\"colab-df-buttons\">\n",
              "\n",
              "  <div class=\"colab-df-container\">\n",
              "    <button class=\"colab-df-convert\" onclick=\"convertToInteractive('df-57344950-2aba-4068-9a51-0322cc125599')\"\n",
              "            title=\"Convert this dataframe to an interactive table.\"\n",
              "            style=\"display:none;\">\n",
              "\n",
              "  <svg xmlns=\"http://www.w3.org/2000/svg\" height=\"24px\" viewBox=\"0 -960 960 960\">\n",
              "    <path d=\"M120-120v-720h720v720H120Zm60-500h600v-160H180v160Zm220 220h160v-160H400v160Zm0 220h160v-160H400v160ZM180-400h160v-160H180v160Zm440 0h160v-160H620v160ZM180-180h160v-160H180v160Zm440 0h160v-160H620v160Z\"/>\n",
              "  </svg>\n",
              "    </button>\n",
              "\n",
              "  <style>\n",
              "    .colab-df-container {\n",
              "      display:flex;\n",
              "      gap: 12px;\n",
              "    }\n",
              "\n",
              "    .colab-df-convert {\n",
              "      background-color: #E8F0FE;\n",
              "      border: none;\n",
              "      border-radius: 50%;\n",
              "      cursor: pointer;\n",
              "      display: none;\n",
              "      fill: #1967D2;\n",
              "      height: 32px;\n",
              "      padding: 0 0 0 0;\n",
              "      width: 32px;\n",
              "    }\n",
              "\n",
              "    .colab-df-convert:hover {\n",
              "      background-color: #E2EBFA;\n",
              "      box-shadow: 0px 1px 2px rgba(60, 64, 67, 0.3), 0px 1px 3px 1px rgba(60, 64, 67, 0.15);\n",
              "      fill: #174EA6;\n",
              "    }\n",
              "\n",
              "    .colab-df-buttons div {\n",
              "      margin-bottom: 4px;\n",
              "    }\n",
              "\n",
              "    [theme=dark] .colab-df-convert {\n",
              "      background-color: #3B4455;\n",
              "      fill: #D2E3FC;\n",
              "    }\n",
              "\n",
              "    [theme=dark] .colab-df-convert:hover {\n",
              "      background-color: #434B5C;\n",
              "      box-shadow: 0px 1px 3px 1px rgba(0, 0, 0, 0.15);\n",
              "      filter: drop-shadow(0px 1px 2px rgba(0, 0, 0, 0.3));\n",
              "      fill: #FFFFFF;\n",
              "    }\n",
              "  </style>\n",
              "\n",
              "    <script>\n",
              "      const buttonEl =\n",
              "        document.querySelector('#df-57344950-2aba-4068-9a51-0322cc125599 button.colab-df-convert');\n",
              "      buttonEl.style.display =\n",
              "        google.colab.kernel.accessAllowed ? 'block' : 'none';\n",
              "\n",
              "      async function convertToInteractive(key) {\n",
              "        const element = document.querySelector('#df-57344950-2aba-4068-9a51-0322cc125599');\n",
              "        const dataTable =\n",
              "          await google.colab.kernel.invokeFunction('convertToInteractive',\n",
              "                                                    [key], {});\n",
              "        if (!dataTable) return;\n",
              "\n",
              "        const docLinkHtml = 'Like what you see? Visit the ' +\n",
              "          '<a target=\"_blank\" href=https://colab.research.google.com/notebooks/data_table.ipynb>data table notebook</a>'\n",
              "          + ' to learn more about interactive tables.';\n",
              "        element.innerHTML = '';\n",
              "        dataTable['output_type'] = 'display_data';\n",
              "        await google.colab.output.renderOutput(dataTable, element);\n",
              "        const docLink = document.createElement('div');\n",
              "        docLink.innerHTML = docLinkHtml;\n",
              "        element.appendChild(docLink);\n",
              "      }\n",
              "    </script>\n",
              "  </div>\n",
              "\n",
              "\n",
              "<div id=\"df-861858ba-788b-4eb8-83a4-7e96b7e43ad0\">\n",
              "  <button class=\"colab-df-quickchart\" onclick=\"quickchart('df-861858ba-788b-4eb8-83a4-7e96b7e43ad0')\"\n",
              "            title=\"Suggest charts\"\n",
              "            style=\"display:none;\">\n",
              "\n",
              "<svg xmlns=\"http://www.w3.org/2000/svg\" height=\"24px\"viewBox=\"0 0 24 24\"\n",
              "     width=\"24px\">\n",
              "    <g>\n",
              "        <path d=\"M19 3H5c-1.1 0-2 .9-2 2v14c0 1.1.9 2 2 2h14c1.1 0 2-.9 2-2V5c0-1.1-.9-2-2-2zM9 17H7v-7h2v7zm4 0h-2V7h2v10zm4 0h-2v-4h2v4z\"/>\n",
              "    </g>\n",
              "</svg>\n",
              "  </button>\n",
              "\n",
              "<style>\n",
              "  .colab-df-quickchart {\n",
              "      --bg-color: #E8F0FE;\n",
              "      --fill-color: #1967D2;\n",
              "      --hover-bg-color: #E2EBFA;\n",
              "      --hover-fill-color: #174EA6;\n",
              "      --disabled-fill-color: #AAA;\n",
              "      --disabled-bg-color: #DDD;\n",
              "  }\n",
              "\n",
              "  [theme=dark] .colab-df-quickchart {\n",
              "      --bg-color: #3B4455;\n",
              "      --fill-color: #D2E3FC;\n",
              "      --hover-bg-color: #434B5C;\n",
              "      --hover-fill-color: #FFFFFF;\n",
              "      --disabled-bg-color: #3B4455;\n",
              "      --disabled-fill-color: #666;\n",
              "  }\n",
              "\n",
              "  .colab-df-quickchart {\n",
              "    background-color: var(--bg-color);\n",
              "    border: none;\n",
              "    border-radius: 50%;\n",
              "    cursor: pointer;\n",
              "    display: none;\n",
              "    fill: var(--fill-color);\n",
              "    height: 32px;\n",
              "    padding: 0;\n",
              "    width: 32px;\n",
              "  }\n",
              "\n",
              "  .colab-df-quickchart:hover {\n",
              "    background-color: var(--hover-bg-color);\n",
              "    box-shadow: 0 1px 2px rgba(60, 64, 67, 0.3), 0 1px 3px 1px rgba(60, 64, 67, 0.15);\n",
              "    fill: var(--button-hover-fill-color);\n",
              "  }\n",
              "\n",
              "  .colab-df-quickchart-complete:disabled,\n",
              "  .colab-df-quickchart-complete:disabled:hover {\n",
              "    background-color: var(--disabled-bg-color);\n",
              "    fill: var(--disabled-fill-color);\n",
              "    box-shadow: none;\n",
              "  }\n",
              "\n",
              "  .colab-df-spinner {\n",
              "    border: 2px solid var(--fill-color);\n",
              "    border-color: transparent;\n",
              "    border-bottom-color: var(--fill-color);\n",
              "    animation:\n",
              "      spin 1s steps(1) infinite;\n",
              "  }\n",
              "\n",
              "  @keyframes spin {\n",
              "    0% {\n",
              "      border-color: transparent;\n",
              "      border-bottom-color: var(--fill-color);\n",
              "      border-left-color: var(--fill-color);\n",
              "    }\n",
              "    20% {\n",
              "      border-color: transparent;\n",
              "      border-left-color: var(--fill-color);\n",
              "      border-top-color: var(--fill-color);\n",
              "    }\n",
              "    30% {\n",
              "      border-color: transparent;\n",
              "      border-left-color: var(--fill-color);\n",
              "      border-top-color: var(--fill-color);\n",
              "      border-right-color: var(--fill-color);\n",
              "    }\n",
              "    40% {\n",
              "      border-color: transparent;\n",
              "      border-right-color: var(--fill-color);\n",
              "      border-top-color: var(--fill-color);\n",
              "    }\n",
              "    60% {\n",
              "      border-color: transparent;\n",
              "      border-right-color: var(--fill-color);\n",
              "    }\n",
              "    80% {\n",
              "      border-color: transparent;\n",
              "      border-right-color: var(--fill-color);\n",
              "      border-bottom-color: var(--fill-color);\n",
              "    }\n",
              "    90% {\n",
              "      border-color: transparent;\n",
              "      border-bottom-color: var(--fill-color);\n",
              "    }\n",
              "  }\n",
              "</style>\n",
              "\n",
              "  <script>\n",
              "    async function quickchart(key) {\n",
              "      const quickchartButtonEl =\n",
              "        document.querySelector('#' + key + ' button');\n",
              "      quickchartButtonEl.disabled = true;  // To prevent multiple clicks.\n",
              "      quickchartButtonEl.classList.add('colab-df-spinner');\n",
              "      try {\n",
              "        const charts = await google.colab.kernel.invokeFunction(\n",
              "            'suggestCharts', [key], {});\n",
              "      } catch (error) {\n",
              "        console.error('Error during call to suggestCharts:', error);\n",
              "      }\n",
              "      quickchartButtonEl.classList.remove('colab-df-spinner');\n",
              "      quickchartButtonEl.classList.add('colab-df-quickchart-complete');\n",
              "    }\n",
              "    (() => {\n",
              "      let quickchartButtonEl =\n",
              "        document.querySelector('#df-861858ba-788b-4eb8-83a4-7e96b7e43ad0 button');\n",
              "      quickchartButtonEl.style.display =\n",
              "        google.colab.kernel.accessAllowed ? 'block' : 'none';\n",
              "    })();\n",
              "  </script>\n",
              "</div>\n",
              "    </div>\n",
              "  </div>\n"
            ],
            "application/vnd.google.colaboratory.intrinsic+json": {
              "type": "dataframe",
              "variable_name": "df",
              "summary": "{\n  \"name\": \"df\",\n  \"rows\": 38765,\n  \"fields\": [\n    {\n      \"column\": \"Member_number\",\n      \"properties\": {\n        \"dtype\": \"number\",\n        \"std\": 1153,\n        \"min\": 1000,\n        \"max\": 5000,\n        \"num_unique_values\": 3898,\n        \"samples\": [\n          3785,\n          1384,\n          3330\n        ],\n        \"semantic_type\": \"\",\n        \"description\": \"\"\n      }\n    },\n    {\n      \"column\": \"Date\",\n      \"properties\": {\n        \"dtype\": \"object\",\n        \"num_unique_values\": 728,\n        \"samples\": [\n          \"19-07-2015\",\n          \"28-03-2015\",\n          \"29-07-2015\"\n        ],\n        \"semantic_type\": \"\",\n        \"description\": \"\"\n      }\n    },\n    {\n      \"column\": \"itemDescription\",\n      \"properties\": {\n        \"dtype\": \"category\",\n        \"num_unique_values\": 167,\n        \"samples\": [\n          \"cookware\",\n          \"canned fruit\",\n          \"specialty cheese\"\n        ],\n        \"semantic_type\": \"\",\n        \"description\": \"\"\n      }\n    }\n  ]\n}"
            }
          },
          "metadata": {},
          "execution_count": 6
        }
      ]
    },
    {
      "cell_type": "markdown",
      "source": [
        "# Data Exploration"
      ],
      "metadata": {
        "id": "rP9jCmIvZjXY"
      }
    },
    {
      "cell_type": "code",
      "source": [
        "# Check data type\n",
        "df.info()"
      ],
      "metadata": {
        "colab": {
          "base_uri": "https://localhost:8080/"
        },
        "id": "aRgvuZAFZcEe",
        "outputId": "748d3d9f-0a34-404d-8ccf-fe474a42d45f"
      },
      "execution_count": 7,
      "outputs": [
        {
          "output_type": "stream",
          "name": "stdout",
          "text": [
            "<class 'pandas.core.frame.DataFrame'>\n",
            "RangeIndex: 38765 entries, 0 to 38764\n",
            "Data columns (total 3 columns):\n",
            " #   Column           Non-Null Count  Dtype \n",
            "---  ------           --------------  ----- \n",
            " 0   Member_number    38765 non-null  int64 \n",
            " 1   Date             38765 non-null  object\n",
            " 2   itemDescription  38765 non-null  object\n",
            "dtypes: int64(1), object(2)\n",
            "memory usage: 908.7+ KB\n"
          ]
        },
        {
          "output_type": "stream",
          "name": "stderr",
          "text": [
            "/usr/local/lib/python3.10/dist-packages/ipykernel/ipkernel.py:283: DeprecationWarning: `should_run_async` will not call `transform_cell` automatically in the future. Please pass the result to `transformed_cell` argument and any exception that happen during thetransform in `preprocessing_exc_tuple` in IPython 7.17 and above.\n",
            "  and should_run_async(code)\n"
          ]
        }
      ]
    },
    {
      "cell_type": "code",
      "source": [
        "# Check number of unique value\n",
        "df.Member_number.nunique()"
      ],
      "metadata": {
        "colab": {
          "base_uri": "https://localhost:8080/"
        },
        "id": "PhbbplnOacBZ",
        "outputId": "20b004a9-8561-4274-eec3-29f9118e76b8"
      },
      "execution_count": 8,
      "outputs": [
        {
          "output_type": "stream",
          "name": "stderr",
          "text": [
            "/usr/local/lib/python3.10/dist-packages/ipykernel/ipkernel.py:283: DeprecationWarning: `should_run_async` will not call `transform_cell` automatically in the future. Please pass the result to `transformed_cell` argument and any exception that happen during thetransform in `preprocessing_exc_tuple` in IPython 7.17 and above.\n",
            "  and should_run_async(code)\n"
          ]
        },
        {
          "output_type": "execute_result",
          "data": {
            "text/plain": [
              "3898"
            ]
          },
          "metadata": {},
          "execution_count": 8
        }
      ]
    },
    {
      "cell_type": "code",
      "source": [
        "# Check number of unique value\n",
        "df.Date.nunique()"
      ],
      "metadata": {
        "colab": {
          "base_uri": "https://localhost:8080/"
        },
        "id": "OOrKo33uateW",
        "outputId": "a20acd92-2009-463f-a2fb-1e39aa20b838"
      },
      "execution_count": 9,
      "outputs": [
        {
          "output_type": "stream",
          "name": "stderr",
          "text": [
            "/usr/local/lib/python3.10/dist-packages/ipykernel/ipkernel.py:283: DeprecationWarning: `should_run_async` will not call `transform_cell` automatically in the future. Please pass the result to `transformed_cell` argument and any exception that happen during thetransform in `preprocessing_exc_tuple` in IPython 7.17 and above.\n",
            "  and should_run_async(code)\n"
          ]
        },
        {
          "output_type": "execute_result",
          "data": {
            "text/plain": [
              "728"
            ]
          },
          "metadata": {},
          "execution_count": 9
        }
      ]
    },
    {
      "cell_type": "code",
      "source": [
        "# Check number of unique value\n",
        "df.itemDescription.nunique()"
      ],
      "metadata": {
        "colab": {
          "base_uri": "https://localhost:8080/"
        },
        "id": "nLvnjVgubBqf",
        "outputId": "dec59256-fc25-4163-fdcd-785cd8b57ec6"
      },
      "execution_count": 10,
      "outputs": [
        {
          "output_type": "stream",
          "name": "stderr",
          "text": [
            "/usr/local/lib/python3.10/dist-packages/ipykernel/ipkernel.py:283: DeprecationWarning: `should_run_async` will not call `transform_cell` automatically in the future. Please pass the result to `transformed_cell` argument and any exception that happen during thetransform in `preprocessing_exc_tuple` in IPython 7.17 and above.\n",
            "  and should_run_async(code)\n"
          ]
        },
        {
          "output_type": "execute_result",
          "data": {
            "text/plain": [
              "167"
            ]
          },
          "metadata": {},
          "execution_count": 10
        }
      ]
    },
    {
      "cell_type": "code",
      "source": [
        "# Check number of null value\n",
        "df.isnull().sum().sort_values(ascending=False)"
      ],
      "metadata": {
        "colab": {
          "base_uri": "https://localhost:8080/"
        },
        "id": "XC9Q4yqWbW8l",
        "outputId": "8ec49fd1-a52a-4ef8-8291-1e0366e82c14"
      },
      "execution_count": 11,
      "outputs": [
        {
          "output_type": "stream",
          "name": "stderr",
          "text": [
            "/usr/local/lib/python3.10/dist-packages/ipykernel/ipkernel.py:283: DeprecationWarning: `should_run_async` will not call `transform_cell` automatically in the future. Please pass the result to `transformed_cell` argument and any exception that happen during thetransform in `preprocessing_exc_tuple` in IPython 7.17 and above.\n",
            "  and should_run_async(code)\n"
          ]
        },
        {
          "output_type": "execute_result",
          "data": {
            "text/plain": [
              "Member_number      0\n",
              "Date               0\n",
              "itemDescription    0\n",
              "dtype: int64"
            ]
          },
          "metadata": {},
          "execution_count": 11
        }
      ]
    },
    {
      "cell_type": "code",
      "source": [
        "# Get the most 10 bought item\n",
        "df[\"itemDescription\"].value_counts().head(10)"
      ],
      "metadata": {
        "colab": {
          "base_uri": "https://localhost:8080/"
        },
        "id": "0pzXDEsUbekx",
        "outputId": "03549bca-ebdf-40ec-9756-0c6f3e0a794a"
      },
      "execution_count": 12,
      "outputs": [
        {
          "output_type": "stream",
          "name": "stderr",
          "text": [
            "/usr/local/lib/python3.10/dist-packages/ipykernel/ipkernel.py:283: DeprecationWarning: `should_run_async` will not call `transform_cell` automatically in the future. Please pass the result to `transformed_cell` argument and any exception that happen during thetransform in `preprocessing_exc_tuple` in IPython 7.17 and above.\n",
            "  and should_run_async(code)\n"
          ]
        },
        {
          "output_type": "execute_result",
          "data": {
            "text/plain": [
              "itemDescription\n",
              "whole milk          2502\n",
              "other vegetables    1898\n",
              "rolls/buns          1716\n",
              "soda                1514\n",
              "yogurt              1334\n",
              "root vegetables     1071\n",
              "tropical fruit      1032\n",
              "bottled water        933\n",
              "sausage              924\n",
              "citrus fruit         812\n",
              "Name: count, dtype: int64"
            ]
          },
          "metadata": {},
          "execution_count": 12
        }
      ]
    },
    {
      "cell_type": "markdown",
      "source": [
        "# ELCAT"
      ],
      "metadata": {
        "id": "isXu0DTfeGkp"
      }
    },
    {
      "cell_type": "code",
      "source": [
        "# Combine 'Member_number' and 'Date' into a single column 'Member_number-Date'\n",
        "df['Member_number-Date'] = df['Member_number'].astype(str) + '-' + df['Date'].astype(str)\n",
        "\n",
        "# Group by the new column and aggregate the 'itemDescription' column\n",
        "grocery_data = df.groupby('Member_number-Date')['itemDescription'].apply(lambda x: ','.join(x)).reset_index()\n",
        "\n",
        "# Display the grocery_data\n",
        "print(grocery_data)"
      ],
      "metadata": {
        "id": "jfKaqiGijoag",
        "colab": {
          "base_uri": "https://localhost:8080/"
        },
        "outputId": "381c1dfc-d424-447d-bd4b-e98e23450b69"
      },
      "execution_count": 13,
      "outputs": [
        {
          "output_type": "stream",
          "name": "stderr",
          "text": [
            "/usr/local/lib/python3.10/dist-packages/ipykernel/ipkernel.py:283: DeprecationWarning: `should_run_async` will not call `transform_cell` automatically in the future. Please pass the result to `transformed_cell` argument and any exception that happen during thetransform in `preprocessing_exc_tuple` in IPython 7.17 and above.\n",
            "  and should_run_async(code)\n"
          ]
        },
        {
          "output_type": "stream",
          "name": "stdout",
          "text": [
            "      Member_number-Date                                    itemDescription\n",
            "0        1000-15-03-2015      sausage,whole milk,semi-finished bread,yogurt\n",
            "1        1000-24-06-2014                      whole milk,pastry,salty snack\n",
            "2        1000-24-07-2015                        canned beer,misc. beverages\n",
            "3        1000-25-11-2015                           sausage,hygiene articles\n",
            "4        1000-27-05-2015                            soda,pickled vegetables\n",
            "...                  ...                                                ...\n",
            "14958    4999-24-01-2015  tropical fruit,berries,other vegetables,yogurt...\n",
            "14959    4999-26-12-2015                                bottled water,herbs\n",
            "14960    5000-09-03-2014                       fruit/vegetable juice,onions\n",
            "14961    5000-10-02-2015           soda,root vegetables,semi-finished bread\n",
            "14962    5000-16-11-2014                      bottled beer,other vegetables\n",
            "\n",
            "[14963 rows x 2 columns]\n"
          ]
        }
      ]
    },
    {
      "cell_type": "code",
      "source": [
        "# Group by the new column and aggregate the 'itemDescription' column\n",
        "grocery_data = df.groupby('itemDescription')['Member_number-Date'].apply(lambda x: ','.join(x)).reset_index()\n",
        "\n",
        "# Display the grocery_data\n",
        "print(grocery_data)\n"
      ],
      "metadata": {
        "colab": {
          "base_uri": "https://localhost:8080/"
        },
        "id": "r7seo7ygkrY6",
        "outputId": "e43cf25f-7459-40d2-f231-b98c89446940"
      },
      "execution_count": 14,
      "outputs": [
        {
          "output_type": "stream",
          "name": "stdout",
          "text": [
            "           itemDescription                                 Member_number-Date\n",
            "0    Instant food products  1746-15-02-2015,4962-29-03-2015,4160-12-08-201...\n",
            "1                 UHT-milk  2836-29-12-2015,2371-30-08-2015,1016-05-10-201...\n",
            "2         abrasive cleaner  2421-21-11-2015,3390-21-02-2015,2730-15-06-201...\n",
            "3         artif. sweetener  1273-04-05-2015,1885-03-07-2015,2618-03-12-201...\n",
            "4           baby cosmetics    2070-19-12-2015,4759-20-02-2015,1552-09-01-2014\n",
            "..                     ...                                                ...\n",
            "162            white bread  3950-01-10-2015,3959-12-04-2015,4796-25-08-201...\n",
            "163             white wine  4389-13-04-2015,2723-07-05-2015,2464-13-05-201...\n",
            "164             whole milk  2552-05-01-2015,3037-01-02-2015,2762-20-03-201...\n",
            "165                 yogurt  4056-12-06-2015,4918-27-01-2015,1723-02-09-201...\n",
            "166               zwieback  1968-10-01-2015,2272-05-09-2015,4591-13-06-201...\n",
            "\n",
            "[167 rows x 2 columns]\n"
          ]
        },
        {
          "output_type": "stream",
          "name": "stderr",
          "text": [
            "/usr/local/lib/python3.10/dist-packages/ipykernel/ipkernel.py:283: DeprecationWarning: `should_run_async` will not call `transform_cell` automatically in the future. Please pass the result to `transformed_cell` argument and any exception that happen during thetransform in `preprocessing_exc_tuple` in IPython 7.17 and above.\n",
            "  and should_run_async(code)\n"
          ]
        }
      ]
    },
    {
      "cell_type": "code",
      "source": [
        "class Item:\n",
        "    def __init__(self, name):\n",
        "        self.name = name\n",
        "\n",
        "class Transaction:\n",
        "    def __init__(self, transaction_id, items):\n",
        "        self.transaction_id = transaction_id\n",
        "        self.items = items\n",
        "\n",
        "class VerticalDatabase:\n",
        "    def __init__(self, transactions):\n",
        "        self.items = {}\n",
        "        self.build_vertical_database(transactions)\n",
        "\n",
        "    def build_vertical_database(self, transactions):\n",
        "        for transaction in transactions:\n",
        "            for item in transaction.items:\n",
        "                if item.name not in self.items:\n",
        "                    self.items[item.name] = set()\n",
        "                self.items[item.name].add(transaction.transaction_id)\n",
        "\n",
        "class EclatNode:\n",
        "    def __init__(self, item_name, transaction_ids, support):\n",
        "        self.item_name = item_name\n",
        "        self.transaction_ids = transaction_ids\n",
        "        self.support = support\n",
        "        self.children = []\n",
        "\n",
        "class Eclat:\n",
        "    def __init__(self, min_support):\n",
        "        self.min_support = min_support\n",
        "\n",
        "    def run(self, vertical_db):\n",
        "        frequent_itemsets = []\n",
        "        for item_name, transaction_ids in vertical_db.items.items():\n",
        "            support = len(transaction_ids)\n",
        "            if support >= self.min_support:\n",
        "                frequent_itemsets.append(EclatNode(item_name, transaction_ids, support))\n",
        "        self.depth_first_search(frequent_itemsets, vertical_db)\n",
        "        return frequent_itemsets\n",
        "\n",
        "    def depth_first_search(self, itemsets, vertical_db):\n",
        "        for i in range(len(itemsets)):\n",
        "            for j in range(i + 1, len(itemsets)):\n",
        "                intersection = itemsets[i].transaction_ids & itemsets[j].transaction_ids\n",
        "                support = len(intersection)\n",
        "                if support >= self.min_support:\n",
        "                    new_itemset = EclatNode(\n",
        "                        itemsets[i].item_name + \",\" + itemsets[j].item_name,\n",
        "                        intersection,\n",
        "                        support\n",
        "                    )\n",
        "                    itemsets[i].children.append(new_itemset)\n",
        "                    self.depth_first_search([new_itemset], vertical_db)"
      ],
      "metadata": {
        "colab": {
          "base_uri": "https://localhost:8080/"
        },
        "id": "X-hnXS_R_Em2",
        "outputId": "6c3132fb-8e7b-4804-d82e-5e7f9ca95fe4"
      },
      "execution_count": 15,
      "outputs": [
        {
          "output_type": "stream",
          "name": "stderr",
          "text": [
            "/usr/local/lib/python3.10/dist-packages/ipykernel/ipkernel.py:283: DeprecationWarning: `should_run_async` will not call `transform_cell` automatically in the future. Please pass the result to `transformed_cell` argument and any exception that happen during thetransform in `preprocessing_exc_tuple` in IPython 7.17 and above.\n",
            "  and should_run_async(code)\n"
          ]
        }
      ]
    },
    {
      "cell_type": "code",
      "source": [
        "# Step 1: Parse the DataFrame and create Item and Transaction objects\n",
        "transactions = []\n",
        "for _, row in grocery_data.iterrows():\n",
        "    item_description = row[\"itemDescription\"]\n",
        "    member_dates = row[\"Member_number-Date\"].split(',')\n",
        "\n",
        "    for member_date in member_dates:\n",
        "        member_number, date = member_date.split('-')[0], member_date.split('-')[1:]\n",
        "        transaction_id = int(member_number)  # Using member number as transaction ID\n",
        "        item = Item(item_description)\n",
        "\n",
        "        # Check if transaction with this ID already exists\n",
        "        transaction = next((t for t in transactions if t.transaction_id == transaction_id), None)\n",
        "        if transaction is None:\n",
        "            transaction = Transaction(transaction_id, [item])\n",
        "            transactions.append(transaction)\n",
        "        else:\n",
        "            transaction.items.append(item)\n",
        "\n",
        "# Step 2: Build the Vertical Database\n",
        "vertical_db = VerticalDatabase(transactions)\n",
        "\n",
        "# Step 3: Run the Eclat Algorithm\n",
        "total_transactions = len(transactions)\n",
        "min_support_percentage = 0.03 # 3%\n",
        "min_support = int(total_transactions * min_support_percentage)\n",
        "eclat = Eclat(min_support)\n",
        "frequent_itemsets = eclat.run(vertical_db)\n",
        "\n",
        "# Step 4: Retrieve and Process Results\n",
        "def extract_frequent_itemsets(itemsets, itemset_list=None, support_list=None):\n",
        "    if itemset_list is None:\n",
        "        itemset_list = []\n",
        "        support_list = []\n",
        "\n",
        "    for itemset in itemsets:\n",
        "        itemset_list.append(itemset.item_name)\n",
        "        support_list.append(itemset.support)\n",
        "        extract_frequent_itemsets(itemset.children, itemset_list, support_list)\n",
        "\n",
        "    return itemset_list, support_list\n",
        "\n",
        "itemsets, supports = extract_frequent_itemsets(frequent_itemsets)\n",
        "\n",
        "# Create a DataFrame from the extracted data\n",
        "data = {\"Itemset\": itemsets, \"Support\": supports}\n",
        "df = pd.DataFrame(data)\n",
        "\n",
        "print(\"Frequent Itemsets (DataFrame):\")\n",
        "print(df)"
      ],
      "metadata": {
        "colab": {
          "base_uri": "https://localhost:8080/"
        },
        "id": "Eoc0LOJ-WO1l",
        "outputId": "c1c9eed6-185e-471f-8da4-c641890a073a"
      },
      "execution_count": 16,
      "outputs": [
        {
          "output_type": "stream",
          "name": "stderr",
          "text": [
            "/usr/local/lib/python3.10/dist-packages/ipykernel/ipkernel.py:283: DeprecationWarning: `should_run_async` will not call `transform_cell` automatically in the future. Please pass the result to `transformed_cell` argument and any exception that happen during thetransform in `preprocessing_exc_tuple` in IPython 7.17 and above.\n",
            "  and should_run_async(code)\n"
          ]
        },
        {
          "output_type": "stream",
          "name": "stdout",
          "text": [
            "Frequent Itemsets (DataFrame):\n",
            "                       Itemset  Support\n",
            "0                     UHT-milk      306\n",
            "1          UHT-milk,whole milk      158\n",
            "2          UHT-milk,rolls/buns      121\n",
            "3    UHT-milk,other vegetables      152\n",
            "4                bottled water      833\n",
            "..                         ...      ...\n",
            "327         pickled vegetables      130\n",
            "328                 pot plants      116\n",
            "329             red/blush wine      155\n",
            "330                      pasta      118\n",
            "331                  detergent      127\n",
            "\n",
            "[332 rows x 2 columns]\n"
          ]
        }
      ]
    },
    {
      "cell_type": "code",
      "source": [
        "# Count the number of items in each itemset\n",
        "df['Itemset Count'] = df['Itemset'].str.count(',') + 1\n",
        "print(\"DataFrame with Itemset Counts:\")\n",
        "print(df)"
      ],
      "metadata": {
        "colab": {
          "base_uri": "https://localhost:8080/"
        },
        "id": "7WDMqma7bpLi",
        "outputId": "de9641f4-687d-429d-e882-38110c04d0d1"
      },
      "execution_count": 17,
      "outputs": [
        {
          "output_type": "stream",
          "name": "stdout",
          "text": [
            "DataFrame with Itemset Counts:\n",
            "                       Itemset  Support  Itemset Count\n",
            "0                     UHT-milk      306              1\n",
            "1          UHT-milk,whole milk      158              2\n",
            "2          UHT-milk,rolls/buns      121              2\n",
            "3    UHT-milk,other vegetables      152              2\n",
            "4                bottled water      833              1\n",
            "..                         ...      ...            ...\n",
            "327         pickled vegetables      130              1\n",
            "328                 pot plants      116              1\n",
            "329             red/blush wine      155              1\n",
            "330                      pasta      118              1\n",
            "331                  detergent      127              1\n",
            "\n",
            "[332 rows x 3 columns]\n"
          ]
        },
        {
          "output_type": "stream",
          "name": "stderr",
          "text": [
            "/usr/local/lib/python3.10/dist-packages/ipykernel/ipkernel.py:283: DeprecationWarning: `should_run_async` will not call `transform_cell` automatically in the future. Please pass the result to `transformed_cell` argument and any exception that happen during thetransform in `preprocessing_exc_tuple` in IPython 7.17 and above.\n",
            "  and should_run_async(code)\n"
          ]
        }
      ]
    },
    {
      "cell_type": "markdown",
      "source": [
        "## 1 Item"
      ],
      "metadata": {
        "id": "ZsXAF4vnfRhJ"
      }
    },
    {
      "cell_type": "code",
      "source": [
        "# Get Itemset have 1 item only\n",
        "df_one = df[df['Itemset Count'] == 1]\n",
        "df_one = df_one.drop_duplicates(subset=['Itemset'])\n",
        "print(\"DataFrame without Duplicate Itemsets:\")\n",
        "print(df_one)"
      ],
      "metadata": {
        "colab": {
          "base_uri": "https://localhost:8080/"
        },
        "id": "0bXVMN_qcJCk",
        "outputId": "f02cc47b-d791-4822-929e-1b6e3ceec071"
      },
      "execution_count": 18,
      "outputs": [
        {
          "output_type": "stream",
          "name": "stdout",
          "text": [
            "DataFrame without Duplicate Itemsets:\n",
            "                Itemset  Support  Itemset Count\n",
            "0              UHT-milk      306              1\n",
            "4         bottled water      833              1\n",
            "26        cream cheese       345              1\n",
            "31            margarine      456              1\n",
            "38            pip fruit      665              1\n",
            "..                  ...      ...            ...\n",
            "327  pickled vegetables      130              1\n",
            "328          pot plants      116              1\n",
            "329      red/blush wine      155              1\n",
            "330               pasta      118              1\n",
            "331           detergent      127              1\n",
            "\n",
            "[73 rows x 3 columns]\n"
          ]
        },
        {
          "output_type": "stream",
          "name": "stderr",
          "text": [
            "/usr/local/lib/python3.10/dist-packages/ipykernel/ipkernel.py:283: DeprecationWarning: `should_run_async` will not call `transform_cell` automatically in the future. Please pass the result to `transformed_cell` argument and any exception that happen during thetransform in `preprocessing_exc_tuple` in IPython 7.17 and above.\n",
            "  and should_run_async(code)\n"
          ]
        }
      ]
    },
    {
      "cell_type": "code",
      "source": [
        "# Sort support\n",
        "df_sorted = df_one.sort_values(by='Support', ascending=False)\n",
        "\n",
        "# Take only the top 20 itemsets\n",
        "top_20_df = df_sorted.head(20)\n",
        "\n",
        "# Plotting the bar chart for top 20 itemsets with data labels\n",
        "plt.figure(figsize=(10, 6))\n",
        "bars = plt.barh(top_20_df['Itemset'], top_20_df['Support'], color='skyblue')\n",
        "plt.xlabel('Support')\n",
        "plt.ylabel('Itemset')\n",
        "plt.title('Top 20 Frequent items with Highest Support')\n",
        "\n",
        "# Add data labels to each bar\n",
        "for bar in bars:\n",
        "    plt.text(bar.get_width(), bar.get_y() + bar.get_height()/2, str(int(bar.get_width())), va='center')\n",
        "\n",
        "plt.gca().invert_yaxis()  # Invert y-axis to display items with the highest support at the top\n",
        "plt.show()\n"
      ],
      "metadata": {
        "colab": {
          "base_uri": "https://localhost:8080/",
          "height": 620
        },
        "id": "ZnQK0gc1ae0y",
        "outputId": "c7b7c8a3-3fb8-48f4-fba5-cf8a5911a658"
      },
      "execution_count": 19,
      "outputs": [
        {
          "output_type": "stream",
          "name": "stderr",
          "text": [
            "/usr/local/lib/python3.10/dist-packages/ipykernel/ipkernel.py:283: DeprecationWarning: `should_run_async` will not call `transform_cell` automatically in the future. Please pass the result to `transformed_cell` argument and any exception that happen during thetransform in `preprocessing_exc_tuple` in IPython 7.17 and above.\n",
            "  and should_run_async(code)\n"
          ]
        },
        {
          "output_type": "display_data",
          "data": {
            "text/plain": [
              "<Figure size 1000x600 with 1 Axes>"
            ],
            "image/png": "[encoded data removed]"
          },
          "metadata": {}
        }
      ]
    },
    {
      "cell_type": "markdown",
      "source": [
        "## 2 Items"
      ],
      "metadata": {
        "id": "vkVmvHtPfXIF"
      }
    },
    {
      "cell_type": "code",
      "source": [
        "# Get Itemset have 2 items only\n",
        "df_two = df[df['Itemset Count'] == 2]\n",
        "df_two = df_two.drop_duplicates(subset=['Itemset'])\n",
        "print(\"DataFrame without Duplicate Itemsets:\")\n",
        "print(df_two)"
      ],
      "metadata": {
        "colab": {
          "base_uri": "https://localhost:8080/"
        },
        "id": "TRZ_fu9xfQg2",
        "outputId": "d835da37-fac0-4783-cae9-9f699eb560f3"
      },
      "execution_count": 20,
      "outputs": [
        {
          "output_type": "stream",
          "name": "stdout",
          "text": [
            "DataFrame without Duplicate Itemsets:\n",
            "                           Itemset  Support  Itemset Count\n",
            "1              UHT-milk,whole milk      158              2\n",
            "2              UHT-milk,rolls/buns      121              2\n",
            "3        UHT-milk,other vegetables      152              2\n",
            "5          bottled water,pip fruit      158              2\n",
            "6    bottled water,root vegetables      211              2\n",
            "..                             ...      ...            ...\n",
            "284      canned beer,shopping bags      131              2\n",
            "291       newspapers,shopping bags      117              2\n",
            "297             pastry,brown bread      122              2\n",
            "298             pastry,frankfurter      117              2\n",
            "300      brown bread,shopping bags      121              2\n",
            "\n",
            "[259 rows x 3 columns]\n"
          ]
        },
        {
          "output_type": "stream",
          "name": "stderr",
          "text": [
            "/usr/local/lib/python3.10/dist-packages/ipykernel/ipkernel.py:283: DeprecationWarning: `should_run_async` will not call `transform_cell` automatically in the future. Please pass the result to `transformed_cell` argument and any exception that happen during thetransform in `preprocessing_exc_tuple` in IPython 7.17 and above.\n",
            "  and should_run_async(code)\n"
          ]
        }
      ]
    },
    {
      "cell_type": "code",
      "source": [
        "# Sort support\n",
        "df_sorted = df_two.sort_values(by='Support', ascending=False)\n",
        "\n",
        "# Take only the top 20 itemsets\n",
        "top_20_df = df_sorted.head(20)\n",
        "\n",
        "# Plotting the bar chart for top 20 itemsets with data labels\n",
        "plt.figure(figsize=(10, 6))\n",
        "bars = plt.barh(top_20_df['Itemset'], top_20_df['Support'], color='skyblue')\n",
        "plt.xlabel('Support')\n",
        "plt.ylabel('Itemset')\n",
        "plt.title('Top 20 Frequent two items with Highest Support')\n",
        "\n",
        "# Add data labels to each bar\n",
        "for bar in bars:\n",
        "    plt.text(bar.get_width(), bar.get_y() + bar.get_height()/2, str(int(bar.get_width())), va='center')\n",
        "\n",
        "plt.gca().invert_yaxis()  # Invert y-axis to display items with the highest support at the top\n",
        "plt.show()"
      ],
      "metadata": {
        "colab": {
          "base_uri": "https://localhost:8080/",
          "height": 620
        },
        "id": "ZjyzozjMfgOo",
        "outputId": "67a6f8c8-f5e8-4190-f790-6ef6455a3871"
      },
      "execution_count": 21,
      "outputs": [
        {
          "output_type": "stream",
          "name": "stderr",
          "text": [
            "/usr/local/lib/python3.10/dist-packages/ipykernel/ipkernel.py:283: DeprecationWarning: `should_run_async` will not call `transform_cell` automatically in the future. Please pass the result to `transformed_cell` argument and any exception that happen during thetransform in `preprocessing_exc_tuple` in IPython 7.17 and above.\n",
            "  and should_run_async(code)\n"
          ]
        },
        {
          "output_type": "display_data",
          "data": {
            "text/plain": [
              "<Figure size 1000x600 with 1 Axes>"
            ],
            "image/png": "[encoded data removed]"
          },
          "metadata": {}
        }
      ]
    },
    {
      "cell_type": "code",
      "source": [
        "# Get Itemset have 3 items only\n",
        "df_three = df[df['Itemset Count'] == 3]\n",
        "df_three = df_three.drop_duplicates(subset=['Itemset'])\n",
        "print(\"DataFrame without Duplicate Itemsets:\")\n",
        "print(df_three)"
      ],
      "metadata": {
        "colab": {
          "base_uri": "https://localhost:8080/"
        },
        "id": "I1HBG7AleBCK",
        "outputId": "af88ba6c-5a55-49a7-c473-0980fe90c40b"
      },
      "execution_count": 22,
      "outputs": [
        {
          "output_type": "stream",
          "name": "stdout",
          "text": [
            "DataFrame without Duplicate Itemsets:\n",
            "Empty DataFrame\n",
            "Columns: [Itemset, Support, Itemset Count]\n",
            "Index: []\n"
          ]
        },
        {
          "output_type": "stream",
          "name": "stderr",
          "text": [
            "/usr/local/lib/python3.10/dist-packages/ipykernel/ipkernel.py:283: DeprecationWarning: `should_run_async` will not call `transform_cell` automatically in the future. Please pass the result to `transformed_cell` argument and any exception that happen during thetransform in `preprocessing_exc_tuple` in IPython 7.17 and above.\n",
            "  and should_run_async(code)\n"
          ]
        }
      ]
    },
    {
      "cell_type": "markdown",
      "source": [
        "#Support"
      ],
      "metadata": {
        "id": "qENUXeOgoFEs"
      }
    },
    {
      "cell_type": "code",
      "source": [
        "# Convert itemsets to frozenset\n",
        "df_one['itemsets'] = df_one['Itemset'].apply(lambda x: frozenset([x]))\n",
        "df_two['itemsets'] = df_two['Itemset'].apply(lambda x: frozenset(x.split(',')))\n",
        "# Convert itemsets to frozenset and calculate support as a decimal\n",
        "df_one['itemsets'] = df_one['Itemset'].apply(lambda x: frozenset([x]))\n",
        "df_one['support'] = df_one['Support'] / total_transactions\n",
        "df_two['itemsets'] = df_two['Itemset'].apply(lambda x: frozenset(x.split(',')))\n",
        "df_two['support'] = df_two['Support'] / total_transactions\n",
        "# Create a DataFrame with itemsets and support\n",
        "itemsets_df = pd.concat([df_one[['itemsets', 'support']], df_two[['itemsets', 'support']]], axis=0)\n",
        "# Generate association rules\n",
        "rules = association_rules(itemsets_df, metric=\"confidence\", min_threshold=0.53)\n",
        "# Sort the rules by confidence in descending order\n",
        "#rules = rules.sort_values('support', ascending=False)\n",
        "print(\"Association Rules:\")\n",
        "print(rules)"
      ],
      "metadata": {
        "colab": {
          "base_uri": "https://localhost:8080/"
        },
        "id": "_1k97YViuhwC",
        "outputId": "06f4ffc7-e44c-4458-877b-77d1ea07d204"
      },
      "execution_count": 23,
      "outputs": [
        {
          "output_type": "stream",
          "name": "stdout",
          "text": [
            "Association Rules:\n",
            "            antecedents   consequents  antecedent support  consequent support  \\\n",
            "0       (cream cheese )  (whole milk)            0.088507            0.458184   \n",
            "1           (chocolate)  (whole milk)            0.086455            0.458184   \n",
            "2              (yogurt)  (whole milk)            0.282966            0.458184   \n",
            "3        (bottled beer)  (whole milk)            0.158799            0.458184   \n",
            "4   (frozen vegetables)  (whole milk)            0.102617            0.458184   \n",
            "5         (white bread)  (whole milk)            0.088763            0.458184   \n",
            "6                (beef)  (whole milk)            0.119548            0.458184   \n",
            "7       (shopping bags)  (whole milk)            0.168291            0.458184   \n",
            "8                (meat)  (whole milk)            0.063622            0.458184   \n",
            "9             (waffles)  (whole milk)            0.069010            0.458184   \n",
            "10              (sugar)  (whole milk)            0.065931            0.458184   \n",
            "11                (ham)  (whole milk)            0.063366            0.458184   \n",
            "12          (ice cream)  (whole milk)            0.056439            0.458184   \n",
            "13                (oil)  (whole milk)            0.055670            0.458184   \n",
            "14     (hamburger meat)  (whole milk)            0.080298            0.458184   \n",
            "\n",
            "     support  confidence      lift  leverage  conviction  zhangs_metric  \n",
            "0   0.047717    0.539130  1.176669  0.007164    1.175639       0.164722  \n",
            "1   0.047973    0.554896  1.211078  0.008361    1.217281       0.190783  \n",
            "2   0.150590    0.532185  1.161510  0.020940    1.158185       0.193926  \n",
            "3   0.085428    0.537964  1.174124  0.012669    1.172672       0.176297  \n",
            "4   0.055156    0.537500  1.173110  0.008139    1.171495       0.164439  \n",
            "5   0.047717    0.537572  1.173268  0.007047    1.171678       0.162065  \n",
            "6   0.064135    0.536481  1.170886  0.009360    1.168919       0.165762  \n",
            "7   0.091329    0.542683  1.184422  0.014220    1.184772       0.187213  \n",
            "8   0.034890    0.548387  1.196872  0.005739    1.199736       0.175665  \n",
            "9   0.037968    0.550186  1.200798  0.006349    1.204534       0.179615  \n",
            "10  0.036942    0.560311  1.222897  0.006733    1.232273       0.195135  \n",
            "11  0.036942    0.582996  1.272407  0.007909    1.299307       0.228571  \n",
            "12  0.030272    0.536364  1.170630  0.004412    1.168623       0.154478  \n",
            "13  0.030272    0.543779  1.186814  0.004765    1.187618       0.166687  \n",
            "14  0.045408    0.565495  1.234211  0.008617    1.246974       0.206334  \n"
          ]
        },
        {
          "output_type": "stream",
          "name": "stderr",
          "text": [
            "/usr/local/lib/python3.10/dist-packages/ipykernel/ipkernel.py:283: DeprecationWarning: `should_run_async` will not call `transform_cell` automatically in the future. Please pass the result to `transformed_cell` argument and any exception that happen during thetransform in `preprocessing_exc_tuple` in IPython 7.17 and above.\n",
            "  and should_run_async(code)\n"
          ]
        }
      ]
    },
    {
      "cell_type": "code",
      "source": [
        "# Sort the rules by support in descending order\n",
        "rules = rules.sort_values('support', ascending=False)\n",
        "\n",
        "# Filter the top 5 rules with the highest support\n",
        "top_5_rules = rules.nlargest(5, 'support')\n",
        "\n",
        "print(\"Top 5 Association Rules by Support:\")\n",
        "print(top_5_rules)"
      ],
      "metadata": {
        "colab": {
          "base_uri": "https://localhost:8080/"
        },
        "id": "yKsUlshqtLw1",
        "outputId": "03d87fa2-d8af-432f-8088-76b74f3a7453"
      },
      "execution_count": 24,
      "outputs": [
        {
          "output_type": "stream",
          "name": "stdout",
          "text": [
            "Top 5 Association Rules by Support:\n",
            "           antecedents   consequents  antecedent support  consequent support  \\\n",
            "2             (yogurt)  (whole milk)            0.282966            0.458184   \n",
            "7      (shopping bags)  (whole milk)            0.168291            0.458184   \n",
            "3       (bottled beer)  (whole milk)            0.158799            0.458184   \n",
            "6               (beef)  (whole milk)            0.119548            0.458184   \n",
            "4  (frozen vegetables)  (whole milk)            0.102617            0.458184   \n",
            "\n",
            "    support  confidence      lift  leverage  conviction  zhangs_metric  \n",
            "2  0.150590    0.532185  1.161510  0.020940    1.158185       0.193926  \n",
            "7  0.091329    0.542683  1.184422  0.014220    1.184772       0.187213  \n",
            "3  0.085428    0.537964  1.174124  0.012669    1.172672       0.176297  \n",
            "6  0.064135    0.536481  1.170886  0.009360    1.168919       0.165762  \n",
            "4  0.055156    0.537500  1.173110  0.008139    1.171495       0.164439  \n"
          ]
        },
        {
          "output_type": "stream",
          "name": "stderr",
          "text": [
            "/usr/local/lib/python3.10/dist-packages/ipykernel/ipkernel.py:283: DeprecationWarning: `should_run_async` will not call `transform_cell` automatically in the future. Please pass the result to `transformed_cell` argument and any exception that happen during thetransform in `preprocessing_exc_tuple` in IPython 7.17 and above.\n",
            "  and should_run_async(code)\n"
          ]
        }
      ]
    },
    {
      "cell_type": "code",
      "source": [
        "# Sort the rules by support in descending order\n",
        "rules = rules.sort_values('confidence', ascending=False)\n",
        "\n",
        "# Filter the top 5 rules with the highest support\n",
        "top_5_rules = rules.nlargest(5, 'confidence')\n",
        "\n",
        "print(\"Top 5 Association Rules by confidence:\")\n",
        "print(top_5_rules)"
      ],
      "metadata": {
        "colab": {
          "base_uri": "https://localhost:8080/"
        },
        "id": "Yl4YF6_2tpmf",
        "outputId": "e0a273d9-873d-4d28-8ede-7bbc7b4d4130"
      },
      "execution_count": 25,
      "outputs": [
        {
          "output_type": "stream",
          "name": "stdout",
          "text": [
            "Top 5 Association Rules by confidence:\n",
            "         antecedents   consequents  antecedent support  consequent support  \\\n",
            "11             (ham)  (whole milk)            0.063366            0.458184   \n",
            "14  (hamburger meat)  (whole milk)            0.080298            0.458184   \n",
            "10           (sugar)  (whole milk)            0.065931            0.458184   \n",
            "1        (chocolate)  (whole milk)            0.086455            0.458184   \n",
            "9          (waffles)  (whole milk)            0.069010            0.458184   \n",
            "\n",
            "     support  confidence      lift  leverage  conviction  zhangs_metric  \n",
            "11  0.036942    0.582996  1.272407  0.007909    1.299307       0.228571  \n",
            "14  0.045408    0.565495  1.234211  0.008617    1.246974       0.206334  \n",
            "10  0.036942    0.560311  1.222897  0.006733    1.232273       0.195135  \n",
            "1   0.047973    0.554896  1.211078  0.008361    1.217281       0.190783  \n",
            "9   0.037968    0.550186  1.200798  0.006349    1.204534       0.179615  \n"
          ]
        },
        {
          "output_type": "stream",
          "name": "stderr",
          "text": [
            "/usr/local/lib/python3.10/dist-packages/ipykernel/ipkernel.py:283: DeprecationWarning: `should_run_async` will not call `transform_cell` automatically in the future. Please pass the result to `transformed_cell` argument and any exception that happen during thetransform in `preprocessing_exc_tuple` in IPython 7.17 and above.\n",
            "  and should_run_async(code)\n"
          ]
        }
      ]
    },
    {
      "cell_type": "code",
      "source": [
        "# Sort the rules by support in descending order\n",
        "rules = rules.sort_values('lift', ascending=False)\n",
        "\n",
        "# Filter the top 5 rules with the highest support\n",
        "top_5_rules = rules.nlargest(5, 'lift')\n",
        "\n",
        "print(\"Top 5 Association Rules by lift:\")\n",
        "print(top_5_rules)"
      ],
      "metadata": {
        "colab": {
          "base_uri": "https://localhost:8080/"
        },
        "id": "pkzsSgv6t629",
        "outputId": "3fd38a83-d0a5-4277-9902-7f0ec23a9fdb"
      },
      "execution_count": 26,
      "outputs": [
        {
          "output_type": "stream",
          "name": "stdout",
          "text": [
            "Top 5 Association Rules by lift:\n",
            "         antecedents   consequents  antecedent support  consequent support  \\\n",
            "11             (ham)  (whole milk)            0.063366            0.458184   \n",
            "14  (hamburger meat)  (whole milk)            0.080298            0.458184   \n",
            "10           (sugar)  (whole milk)            0.065931            0.458184   \n",
            "1        (chocolate)  (whole milk)            0.086455            0.458184   \n",
            "9          (waffles)  (whole milk)            0.069010            0.458184   \n",
            "\n",
            "     support  confidence      lift  leverage  conviction  zhangs_metric  \n",
            "11  0.036942    0.582996  1.272407  0.007909    1.299307       0.228571  \n",
            "14  0.045408    0.565495  1.234211  0.008617    1.246974       0.206334  \n",
            "10  0.036942    0.560311  1.222897  0.006733    1.232273       0.195135  \n",
            "1   0.047973    0.554896  1.211078  0.008361    1.217281       0.190783  \n",
            "9   0.037968    0.550186  1.200798  0.006349    1.204534       0.179615  \n"
          ]
        },
        {
          "output_type": "stream",
          "name": "stderr",
          "text": [
            "/usr/local/lib/python3.10/dist-packages/ipykernel/ipkernel.py:283: DeprecationWarning: `should_run_async` will not call `transform_cell` automatically in the future. Please pass the result to `transformed_cell` argument and any exception that happen during thetransform in `preprocessing_exc_tuple` in IPython 7.17 and above.\n",
            "  and should_run_async(code)\n"
          ]
        }
      ]
    }
  ]
}
